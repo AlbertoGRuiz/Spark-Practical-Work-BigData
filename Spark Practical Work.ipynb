{
 "cells": [
  {
   "cell_type": "markdown",
   "metadata": {},
   "source": [
    "The Data\n",
    "For this exercise, students will use data published by the US Department of Transportation. This\n",
    "data can be downloaded from the following URL:\n",
    "https://dataverse.harvard.edu/dataset.xhtml?persistentId=doi:10.7910/DVN/HG7NV7\n",
    "The dataset is divided into several independent files, to make download easier. You do not need\n",
    "to download and use the entire dataset. A small piece should be sufficient, one that fits in your\n",
    "development environment and does not take too long to process. The Spark application you\n",
    "develop, however, should be able to work with any subset of this dataset, and not be limited to a\n",
    "specific piece."
   ]
  },
  {
   "cell_type": "code",
   "execution_count": 7,
   "metadata": {},
   "outputs": [
    {
     "name": "stdout",
     "output_type": "stream",
     "text": [
      "<<<<<<<<<<<<<<<<<<<<<<<<<<<<Dataframe>>>>>>>>>>>>>>>>>>>>>>>>>>>>>>>>>>\n",
      "+----+-----+----------+---------+-------+----------+-------+----------+-------------+---------+-------+-----------------+--------------+-------+--------+--------+------+----+--------+------+-------+---------+----------------+--------+------------+------------+--------+-------------+-----------------+\n",
      "|Year|Month|DayofMonth|DayOfWeek|DepTime|CRSDepTime|ArrTime|CRSArrTime|UniqueCarrier|FlightNum|TailNum|ActualElapsedTime|CRSElapsedTime|AirTime|ArrDelay|DepDelay|Origin|Dest|Distance|TaxiIn|TaxiOut|Cancelled|CancellationCode|Diverted|CarrierDelay|WeatherDelay|NASDelay|SecurityDelay|LateAircraftDelay|\n",
      "+----+-----+----------+---------+-------+----------+-------+----------+-------------+---------+-------+-----------------+--------------+-------+--------+--------+------+----+--------+------+-------+---------+----------------+--------+------------+------------+--------+-------------+-----------------+\n",
      "|1987|10   |14        |3        |741    |730       |912    |849       |PS           |1451     |NA     |91               |79            |NULL   |23      |11      |SAN   |SFO |447     |NULL  |NULL   |0        |NA              |0       |NULL        |NULL        |NULL    |NULL         |NULL             |\n",
      "|1987|10   |15        |4        |729    |730       |903    |849       |PS           |1451     |NA     |94               |79            |NULL   |14      |-1      |SAN   |SFO |447     |NULL  |NULL   |0        |NA              |0       |NULL        |NULL        |NULL    |NULL         |NULL             |\n",
      "|1987|10   |17        |6        |741    |730       |918    |849       |PS           |1451     |NA     |97               |79            |NULL   |29      |11      |SAN   |SFO |447     |NULL  |NULL   |0        |NA              |0       |NULL        |NULL        |NULL    |NULL         |NULL             |\n",
      "|1987|10   |18        |7        |729    |730       |847    |849       |PS           |1451     |NA     |78               |79            |NULL   |-2      |-1      |SAN   |SFO |447     |NULL  |NULL   |0        |NA              |0       |NULL        |NULL        |NULL    |NULL         |NULL             |\n",
      "|1987|10   |19        |1        |749    |730       |922    |849       |PS           |1451     |NA     |93               |79            |NULL   |33      |19      |SAN   |SFO |447     |NULL  |NULL   |0        |NA              |0       |NULL        |NULL        |NULL    |NULL         |NULL             |\n",
      "|1987|10   |21        |3        |728    |730       |848    |849       |PS           |1451     |NA     |80               |79            |NULL   |-1      |-2      |SAN   |SFO |447     |NULL  |NULL   |0        |NA              |0       |NULL        |NULL        |NULL    |NULL         |NULL             |\n",
      "|1987|10   |22        |4        |728    |730       |852    |849       |PS           |1451     |NA     |84               |79            |NULL   |3       |-2      |SAN   |SFO |447     |NULL  |NULL   |0        |NA              |0       |NULL        |NULL        |NULL    |NULL         |NULL             |\n",
      "|1987|10   |23        |5        |731    |730       |902    |849       |PS           |1451     |NA     |91               |79            |NULL   |13      |1       |SAN   |SFO |447     |NULL  |NULL   |0        |NA              |0       |NULL        |NULL        |NULL    |NULL         |NULL             |\n",
      "|1987|10   |24        |6        |744    |730       |908    |849       |PS           |1451     |NA     |84               |79            |NULL   |19      |14      |SAN   |SFO |447     |NULL  |NULL   |0        |NA              |0       |NULL        |NULL        |NULL    |NULL         |NULL             |\n",
      "|1987|10   |25        |7        |729    |730       |851    |849       |PS           |1451     |NA     |82               |79            |NULL   |2       |-1      |SAN   |SFO |447     |NULL  |NULL   |0        |NA              |0       |NULL        |NULL        |NULL    |NULL         |NULL             |\n",
      "+----+-----+----------+---------+-------+----------+-------+----------+-------------+---------+-------+-----------------+--------------+-------+--------+--------+------+----+--------+------+-------+---------+----------------+--------+------------+------------+--------+-------------+-----------------+\n",
      "only showing top 10 rows\n",
      "\n"
     ]
    }
   ],
   "source": [
    "# Importar las bibliotecas necesarias\n",
    "from pyspark import SparkContext, SparkConf\n",
    "from pyspark.sql import SparkSession\n",
    "from pyspark.sql.types import StructType, StringType, IntegerType\n",
    "from pyspark.sql.functions import when, lit, col, length, concat_ws, substring, avg, desc, date_format\n",
    "from pyspark.ml.feature import Imputer, StringIndexer, OneHotEncoder, VectorAssembler, Normalizer, UnivariateFeatureSelector\n",
    "from pyspark.ml import Pipeline\n",
    "from pyspark.ml.tuning import CrossValidator, ParamGridBuilder\n",
    "from pyspark.ml.evaluation import RegressionEvaluator\n",
    "from pyspark.ml.regression import LinearRegression, GeneralizedLinearRegression, DecisionTreeRegressor, RandomForestRegressor, GBTRegressor\n",
    "from pyspark.ml.linalg import SparseVector\n",
    "\n",
    "# Crear una sesión de Spark\n",
    "conf = SparkConf()\n",
    "sc = SparkContext.getOrCreate(conf)\n",
    "conf.setAppName(\"App\")\n",
    "sc.setLogLevel(\"ERROR\")\n",
    "\n",
    "\n",
    "# Inicializa la sesión de Spark\n",
    "spark = SparkSession.builder.appName('Spark Practical Work').getOrCreate()\n",
    "\n",
    "# Después de comprobar todos los campos del CSV, asignamos los tipos correctos\n",
    "schema = StructType() \\\n",
    "    .add(\"Year\", StringType(), True) \\\n",
    "    .add(\"Month\", StringType(), True) \\\n",
    "    .add(\"DayofMonth\", StringType(), True) \\\n",
    "    .add(\"DayOfWeek\", StringType(), True) \\\n",
    "    .add(\"DepTime\", StringType(), True) \\\n",
    "    .add(\"CRSDepTime\", StringType(), True) \\\n",
    "    .add(\"ArrTime\", StringType(), True) \\\n",
    "    .add(\"CRSArrTime\", StringType(), True) \\\n",
    "    .add(\"UniqueCarrier\", StringType(), True) \\\n",
    "    .add(\"FlightNum\", StringType(), True) \\\n",
    "    .add(\"TailNum\", StringType(), True) \\\n",
    "    .add(\"ActualElapsedTime\", IntegerType(), True) \\\n",
    "    .add(\"CRSElapsedTime\", IntegerType(), True) \\\n",
    "    .add(\"AirTime\", IntegerType(), True) \\\n",
    "    .add(\"ArrDelay\", IntegerType(), True) \\\n",
    "    .add(\"DepDelay\", IntegerType(), True) \\\n",
    "    .add(\"Origin\", StringType(), True) \\\n",
    "    .add(\"Dest\", StringType(), True) \\\n",
    "    .add(\"Distance\", IntegerType(), True) \\\n",
    "    .add(\"TaxiIn\", IntegerType(), True) \\\n",
    "    .add(\"TaxiOut\", IntegerType(), True) \\\n",
    "    .add(\"Cancelled\", IntegerType(), True) \\\n",
    "    .add(\"CancellationCode\", StringType(), True) \\\n",
    "    .add(\"Diverted\", IntegerType(), True) \\\n",
    "    .add(\"CarrierDelay\", IntegerType(), True) \\\n",
    "    .add(\"WeatherDelay\", IntegerType(), True) \\\n",
    "    .add(\"NASDelay\", IntegerType(), True) \\\n",
    "    .add(\"SecurityDelay\", IntegerType(), True) \\\n",
    "    .add(\"LateAircraftDelay\", IntegerType(), True)\n",
    "\n",
    "# CSVs en Dataframe\n",
    "df = spark.read.options(header=True, nanValue=\"NA\", emptyValue=\"\") \\\n",
    "    .schema(schema) \\\n",
    "    .csv(\"resources/1987.csv\")  # Ejemplo: \"src/main/resources/2007.csv\" y \"src/main/resources/2008.csv\" como parámetros de entrada\n",
    "\n",
    "print(\"<<<<<<<<<<<<<<<<<<<<<<<<<<<<Dataframe>>>>>>>>>>>>>>>>>>>>>>>>>>>>>>>>>>\")\n",
    "df.show(10, truncate=False)"
   ]
  },
  {
   "cell_type": "markdown",
   "metadata": {},
   "source": [
    "Forbidden variables\n",
    "The dataset consists of a single table with 29 columns. Some of these columns must not be\n",
    "used, and therefore need to be filtered at the beginning of the analysis. These are:\n",
    "● ArrTime\n",
    "● ActualElapsedTime\n",
    "● AirTime\n",
    "● TaxiIn\n",
    "● Diverted\n",
    "● CarrierDelay\n",
    "● WeatherDelay\n",
    "● NASDelay\n",
    "● SecurityDelay\n",
    "● LateAircraftDelay\n",
    "These variables contain information that is unknown at the time the plane takes off and,\n",
    "therefore, cannot be used in the prediction model.\n"
   ]
  },
  {
   "cell_type": "code",
   "execution_count": 10,
   "metadata": {},
   "outputs": [
    {
     "name": "stdout",
     "output_type": "stream",
     "text": [
      "<<<<<<<<<<<<<<<<<<<<<<<<<<<<Dataframe with forbidden variables removed>>>>>>>>>>>>>>>>>>>>>>>>>>>>>>>>>>\n",
      "+----+-----+----------+---------+-------+----------+----------+-------------+---------+-------+--------------+--------+--------+------+----+--------+-------+---------+----------------+\n",
      "|Year|Month|DayofMonth|DayOfWeek|DepTime|CRSDepTime|CRSArrTime|UniqueCarrier|FlightNum|TailNum|CRSElapsedTime|ArrDelay|DepDelay|Origin|Dest|Distance|TaxiOut|Cancelled|CancellationCode|\n",
      "+----+-----+----------+---------+-------+----------+----------+-------------+---------+-------+--------------+--------+--------+------+----+--------+-------+---------+----------------+\n",
      "|1987|10   |14        |3        |741    |730       |849       |PS           |1451     |NA     |79            |23      |11      |SAN   |SFO |447     |NULL   |0        |NA              |\n",
      "|1987|10   |15        |4        |729    |730       |849       |PS           |1451     |NA     |79            |14      |-1      |SAN   |SFO |447     |NULL   |0        |NA              |\n",
      "|1987|10   |17        |6        |741    |730       |849       |PS           |1451     |NA     |79            |29      |11      |SAN   |SFO |447     |NULL   |0        |NA              |\n",
      "|1987|10   |18        |7        |729    |730       |849       |PS           |1451     |NA     |79            |-2      |-1      |SAN   |SFO |447     |NULL   |0        |NA              |\n",
      "|1987|10   |19        |1        |749    |730       |849       |PS           |1451     |NA     |79            |33      |19      |SAN   |SFO |447     |NULL   |0        |NA              |\n",
      "|1987|10   |21        |3        |728    |730       |849       |PS           |1451     |NA     |79            |-1      |-2      |SAN   |SFO |447     |NULL   |0        |NA              |\n",
      "|1987|10   |22        |4        |728    |730       |849       |PS           |1451     |NA     |79            |3       |-2      |SAN   |SFO |447     |NULL   |0        |NA              |\n",
      "|1987|10   |23        |5        |731    |730       |849       |PS           |1451     |NA     |79            |13      |1       |SAN   |SFO |447     |NULL   |0        |NA              |\n",
      "|1987|10   |24        |6        |744    |730       |849       |PS           |1451     |NA     |79            |19      |14      |SAN   |SFO |447     |NULL   |0        |NA              |\n",
      "|1987|10   |25        |7        |729    |730       |849       |PS           |1451     |NA     |79            |2       |-1      |SAN   |SFO |447     |NULL   |0        |NA              |\n",
      "+----+-----+----------+---------+-------+----------+----------+-------------+---------+-------+--------------+--------+--------+------+----+--------+-------+---------+----------------+\n",
      "only showing top 10 rows\n",
      "\n"
     ]
    }
   ],
   "source": [
    "print(\"<<<<<<<<<<<<<<<<<<<<<<<<<<<<Dataframe with forbidden variables removed>>>>>>>>>>>>>>>>>>>>>>>>>>>>>>>>>>\")\n",
    "df = df.drop(\"ArrTime\").drop(\"ActualElapsedTime\").drop(\"AirTime\").drop(\"TaxiIn\").drop(\"Diverted\").drop(\"CarrierDelay\").drop(\"WeatherDelay\").drop(\"NASDelay\").drop(\"SecurityDelay\").drop(\"LateAircraftDelay\")\n",
    "df.show(10, truncate=False)"
   ]
  }
 ],
 "metadata": {
  "kernelspec": {
   "display_name": ".venv",
   "language": "python",
   "name": "python3"
  },
  "language_info": {
   "codemirror_mode": {
    "name": "ipython",
    "version": 3
   },
   "file_extension": ".py",
   "mimetype": "text/x-python",
   "name": "python",
   "nbconvert_exporter": "python",
   "pygments_lexer": "ipython3",
   "version": "3.11.7"
  }
 },
 "nbformat": 4,
 "nbformat_minor": 2
}
