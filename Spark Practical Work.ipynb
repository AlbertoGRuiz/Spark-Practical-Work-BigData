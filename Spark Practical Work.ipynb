{
 "cells": [
  {
   "cell_type": "markdown",
   "metadata": {},
   "source": [
    "The Data\n",
    "For this exercise, students will use data published by the US Department of Transportation. This\n",
    "data can be downloaded from the following URL:\n",
    "https://dataverse.harvard.edu/dataset.xhtml?persistentId=doi:10.7910/DVN/HG7NV7\n",
    "The dataset is divided into several independent files, to make download easier. You do not need\n",
    "to download and use the entire dataset. A small piece should be sufficient, one that fits in your\n",
    "development environment and does not take too long to process. The Spark application you\n",
    "develop, however, should be able to work with any subset of this dataset, and not be limited to a\n",
    "specific piece."
   ]
  },
  {
   "cell_type": "markdown",
   "metadata": {},
   "source": [
    "Forbidden variables\n",
    "The dataset consists of a single table with 29 columns. Some of these columns must not be\n",
    "used, and therefore need to be filtered at the beginning of the analysis. These are:\n",
    "● ArrTime\n",
    "● ActualElapsedTime\n",
    "● AirTime\n",
    "● TaxiIn\n",
    "● Diverted\n",
    "● CarrierDelay\n",
    "● WeatherDelay\n",
    "● NASDelay\n",
    "● SecurityDelay\n",
    "● LateAircraftDelay\n",
    "These variables contain information that is unknown at the time the plane takes off and,\n",
    "therefore, cannot be used in the prediction model.\n"
   ]
  },
  {
   "cell_type": "code",
   "execution_count": null,
   "metadata": {
    "vscode": {
     "languageId": "plaintext"
    }
   },
   "outputs": [],
   "source": [
    "# Importar las bibliotecas necesarias\n",
    "from pyspark import SparkContext\n",
    "from pyspark.sql import SparkSession\n",
    "\n",
    "# Crear una sesión de Spark\n",
    "spark = SparkSession.builder.master(\"local[*]\").getOrCreate()\n",
    "\n",
    "# Crear un contexto de Spark\n",
    "sc = spark.sparkContext\n",
    "sc.setLogLevel('ERROR')\n",
    "\n",
    "pagecounts = sc.textFile(\"pagecounts-20100806-030000.gz\")"
   ]
  }
 ],
 "metadata": {
  "language_info": {
   "name": "python"
  }
 },
 "nbformat": 4,
 "nbformat_minor": 2
}
